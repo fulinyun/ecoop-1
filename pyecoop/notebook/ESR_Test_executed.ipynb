{
 "metadata": {
  "name": "",
  "signature": "sha256:9e60e05a4a00bf05d3e5d74d6557299e6bc2b515690e8fe8d465d0e47c995986"
 },
 "nbformat": 3,
 "nbformat_minor": 0,
 "worksheets": [
  {
   "cells": [
    {
     "cell_type": "code",
     "collapsed": false,
     "input": [
      "import os\n",
      "import time\n",
      "from ecoop.ecooputil import shareUtil\n",
      "from ecoop.cf import cfData, cfPlot\n",
      "from ecoop.ecooprovdict import ecooProvDict\n",
      "from ecoop.printer import openDocument, closeDocument, addSection, addSubSection, addFigure\n",
      "from ecoop.splashtemplate import makeSplash\n",
      "from ecoop.splashdict import splash\n",
      "from ecoop.epimagic import *"
     ],
     "language": "python",
     "metadata": {},
     "outputs": [],
     "prompt_number": 1
    },
    {
     "cell_type": "code",
     "collapsed": false,
     "input": [
      "#ecooProvDict"
     ],
     "language": "python",
     "metadata": {},
     "outputs": [],
     "prompt_number": 2
    },
    {
     "cell_type": "code",
     "collapsed": false,
     "input": [
      "%matplotlib inline"
     ],
     "language": "python",
     "metadata": {},
     "outputs": [],
     "prompt_number": 3
    },
    {
     "cell_type": "code",
     "collapsed": false,
     "input": [
      "util = shareUtil()\n",
      "cfd = cfData()\n",
      "cfp = cfPlot()"
     ],
     "language": "python",
     "metadata": {},
     "outputs": [],
     "prompt_number": 4
    },
    {
     "cell_type": "heading",
     "level": 1,
     "metadata": {},
     "source": [
      "Document"
     ]
    },
    {
     "cell_type": "code",
     "collapsed": false,
     "input": [
      "ID = util.get_id('test/Climate-forcing_pdf')\n",
      "document = openDocument()"
     ],
     "language": "python",
     "metadata": {},
     "outputs": [
      {
       "output_type": "stream",
       "stream": "stdout",
       "text": [
        "session data directory : test/Climate-forcing_pdf_Saturday_21_June_2014_06_51_55_PM\n"
       ]
      }
     ],
     "prompt_number": 5
    },
    {
     "cell_type": "heading",
     "level": 2,
     "metadata": {},
     "source": [
      "Section 1"
     ]
    },
    {
     "cell_type": "code",
     "collapsed": false,
     "input": [
      "%%writefileref {ID}/climate_forcing.txt epinux\n",
      "Climate patterns over the North Atlantic are important drivers of oceanographic conditions and ecosystem states. \n",
      "Steadily increasing atmospheric carbon dioxide levels can not only affect climate on global and regional scales \n",
      "but alter critical aspects of ocean chemistry. Here, we describe the atmospheric forcing mechanisms related \n",
      "to climate in this region including large-scale atmospheric pressure systems, natural ocean temperature cycles in the North Atlantic, \n",
      "components of the large-scale circulation of the Atlantic Ocean, and issues related to ocean acidification."
     ],
     "language": "python",
     "metadata": {},
     "outputs": [
      {
       "output_type": "stream",
       "stream": "stdout",
       "text": [
        "Writing test/Climate-forcing_pdf_Saturday_21_June_2014_06_51_55_PM/climate_forcing.txt\n"
       ]
      },
      {
       "metadata": {
        "references": {
         "@id": "ex:epinux",
         "@type": "foaf:Person",
         "ecoop:address": "22 Millfield St Woods Hole MA US",
         "ecoop:isMemberOf": [
          {
           "@id": "ex:ecoop_group",
           "@type": "foaf:Group",
           "foaf:name": "ECOOP"
          },
          {
           "@id": "ex:TWC",
           "@type": "foaf:Organization",
           "ecoop:subOrganizationOf": {
            "@id": "ex:RPI",
            "@type": "foaf:Organization",
            "foaf:name": "Rensselaer Polytechnic Institute"
           },
           "foaf:name": "Tetherless World Constellation"
          }
         ],
         "foaf:familyName": "Di Stefano",
         "foaf:givenName": "Massimo",
         "foaf:homepage": {
          "@id": "http://tw.rpi.edu/web/person/MassimoDiStefano",
          "@type": "foaf:Document"
         },
         "foaf:mbox": {
          "@id": "mailto:distem@rpi.edu"
         },
         "foaf:phone": {
          "@id": "tel:+1.508.292.40780"
         }
        }
       },
       "output_type": "display_data",
       "text": [
        "u'added references for user epinux'"
       ]
      }
     ],
     "prompt_number": 6
    },
    {
     "cell_type": "code",
     "collapsed": false,
     "input": [
      "section = addSection(name='Climate Forcing', data=os.path.join(ID,'climate_forcing.txt'))  "
     ],
     "language": "python",
     "metadata": {},
     "outputs": [],
     "prompt_number": 7
    },
    {
     "cell_type": "heading",
     "level": 3,
     "metadata": {},
     "source": [
      "Sub Section 1"
     ]
    },
    {
     "cell_type": "code",
     "collapsed": false,
     "input": [
      "%%writefileref {ID}/nao.txt epinux\n",
      "Climate and weather over the North Atlantic are strongly influenced by the relative strengths \n",
      "of two large-scale atmospheric pressure cells -- the Icelandic Low and the Azores High [4]. \n",
      "As the relative strengths of these two pressure systems vary, characteristic patterns of temperature, precipitation, and wind fields are observed. \n",
      "An index of this dipole pattern has been developed based on the standardized difference in sea level pressure between Lisbon, Portugal and Reykjav\u00edk, \n",
      "Iceland in the winter (December-February; see Glossary for a description of methods used to create standardized indicators). \n",
      "This North Atlantic Oscillation (NAO) index has been related to key oceanographic and ecological processes in the North Atlantic basin [5].  \n",
      "When the NAO index is high (positive NAO state), the westerly winds shift northward and increase in strength. \n",
      "Additionally, there is an increase in precipitation over southeastern Canada, the eastern seaboard of the United States, \n",
      "and northwestern Europe. Water temperatures are cool off Labrador and northern Newfoundland, influencing the formation of Deep Labrador Slope water, \n",
      "but warm off the United States. \n",
      "Conversely, when the NAO index is low (negative NAO state), there is a southward shift and decrease in westerly winds, decreased storminess, \n",
      "and drier conditions over southeastern Canada, the eastern United States, and northwestern Europe. \n",
      "Water temperatures are warmer off Labrador and Newfoundland, but cooler off the eastern United States. \n",
      "Since 1972, the NAO has primarily been in a positive state (Figure 1), although notable short-term reversals to a negative state have been observed during this period. \n",
      "Changes in the NAO have been linked to changes in plankton community composition in the North Atlantic, reflecting changes in both the distribution \n",
      "and abundance of warm and cold-temperate species."
     ],
     "language": "python",
     "metadata": {},
     "outputs": [
      {
       "output_type": "stream",
       "stream": "stdout",
       "text": [
        "Writing test/Climate-forcing_pdf_Saturday_21_June_2014_06_51_55_PM/nao.txt\n"
       ]
      },
      {
       "metadata": {
        "references": {
         "@id": "ex:epinux",
         "@type": "foaf:Person",
         "ecoop:address": "22 Millfield St Woods Hole MA US",
         "ecoop:isMemberOf": [
          {
           "@id": "ex:ecoop_group",
           "@type": "foaf:Group",
           "foaf:name": "ECOOP"
          },
          {
           "@id": "ex:TWC",
           "@type": "foaf:Organization",
           "ecoop:subOrganizationOf": {
            "@id": "ex:RPI",
            "@type": "foaf:Organization",
            "foaf:name": "Rensselaer Polytechnic Institute"
           },
           "foaf:name": "Tetherless World Constellation"
          }
         ],
         "foaf:familyName": "Di Stefano",
         "foaf:givenName": "Massimo",
         "foaf:homepage": {
          "@id": "http://tw.rpi.edu/web/person/MassimoDiStefano",
          "@type": "foaf:Document"
         },
         "foaf:mbox": {
          "@id": "mailto:distem@rpi.edu"
         },
         "foaf:phone": {
          "@id": "tel:+1.508.292.40780"
         }
        }
       },
       "output_type": "display_data",
       "text": [
        "u'added references for user epinux'"
       ]
      }
     ],
     "prompt_number": 8
    },
    {
     "cell_type": "code",
     "collapsed": false,
     "input": [
      "naodata = cfd.nao_get(save=ID, csvout=\"nao.csv\", prov=True)"
     ],
     "language": "python",
     "metadata": {},
     "outputs": [
      {
       "output_type": "stream",
       "stream": "stdout",
       "text": [
        "dataset used: https://climatedataguide.ucar.edu/sites/default/files/climate_index_files/nao_station_djfm.txt\n",
        "nao data saved in : test/Climate-forcing_pdf_Saturday_21_June_2014_06_51_55_PM/nao.csv\n"
       ]
      },
      {
       "metadata": {
        "nao_get": {
         "@id": "ex:NAO_dataset",
         "@type": [
          "prov:Entity",
          "ecoop:Dataset"
         ],
         "ecoop_ext:hasCode": {
          "@id": "http://epinux.com/shared/pyecoop_doc/ecoop.html#ecoop.cf.cfData.nao_get",
          "@type": "ecoop_ext:Code",
          "ecoop_ext:hasFunction_src_code_link": "https://climatedataguide.ucar.edu/sites/default/files/climate_index_files/nao_station_djfm.txt",
          "ecoop_ext:hasParameter": [
           {
            "@type": "ecoop_ext:Parameter",
            "ecoop_ext:parameter_name": "csvout",
            "ecoop_ext:parameter_value": "nao.csv"
           },
           {
            "@type": "ecoop_ext:Parameter",
            "ecoop_ext:parameter_name": "save",
            "ecoop_ext:parameter_value": "test/Climate-forcing_pdf_Saturday_21_June_2014_06_51_55_PM"
           },
           {
            "@type": "ecoop_ext:Parameter",
            "ecoop_ext:parameter_name": "url",
            "ecoop_ext:parameter_value": "https://climatedataguide.ucar.edu/sites/default/files/climate_index_files/nao_station_djfm.txt"
           }
          ]
         }
        }
       },
       "output_type": "display_data",
       "text": [
        "'cell-output metadata saved'"
       ]
      }
     ],
     "prompt_number": 9
    },
    {
     "cell_type": "code",
     "collapsed": false,
     "input": [
      "# NAO\n",
      "naodata = cfd.nao_get(save=ID, csvout=\"nao.csv\")\n",
      "cfp.plot_index(name='NAO_lowess', xticks=10, xticks_fontsize=10, \n",
      "               data=naodata, nb='y', scategory='lowess', frac=1./6, it=6, \n",
      "               output=ID, dateformat=True, figsave=\"nao.png\", prov=True)"
     ],
     "language": "python",
     "metadata": {},
     "outputs": [
      {
       "output_type": "stream",
       "stream": "stdout",
       "text": [
        "dataset used: https://climatedataguide.ucar.edu/sites/default/files/climate_index_files/nao_station_djfm.txt\n",
        "nao data saved in : test/Climate-forcing_pdf_Saturday_21_June_2014_06_51_55_PM/nao.csv\n",
        "graph saved in: test/Climate-forcing_pdf_Saturday_21_June_2014_06_51_55_PM/nao.png "
       ]
      },
      {
       "output_type": "stream",
       "stream": "stdout",
       "text": [
        "\n",
        "NAO_lowess smoothed data saved in : test/Climate-forcing_pdf_Saturday_21_June_2014_06_51_55_PM/NAO_lowess_lowess.csv \n"
       ]
      },
      {
       "metadata": {
        "amo_get": {
         "@id": "ex:NAO_figure",
         "@type": [
          "prov:Entity",
          "ecoop:Figure"
         ],
         "ecoop_ext:hasCode": {
          "@type": "ecoop_ext:Code",
          "ecoop_ext:hasFunction_src_code_link": "",
          "ecoop_ext:hasParameter": [
           {
            "@type": "ecoop_ext:Parameter",
            "ecoop_ext:parameter_name": "beta",
            "ecoop_ext:parameter_value": 0.1
           },
           {
            "@type": "ecoop_ext:Parameter",
            "ecoop_ext:parameter_name": "center",
            "ecoop_ext:parameter_value": false
           },
           {
            "@type": "ecoop_ext:Parameter",
            "ecoop_ext:parameter_name": "data",
            "ecoop_ext:parameter_value": "            Hurrell Station-Based DJFM NAO Index\n1864-01-01                                 -1.02\n1865-01-01                                 -1.24\n1866-01-01                                  0.54\n1867-01-01                                 -1.38\n1868-01-01                                  2.81\n1869-01-01                                  1.70\n1870-01-01                                 -3.01\n1871-01-01                                 -1.01\n1872-01-01                                 -0.76\n1873-01-01                                 -0.50\n1874-01-01                                  2.32\n1875-01-01                                 -1.35\n1876-01-01                                  0.21\n1877-01-01                                  0.05\n1878-01-01                                  1.46\n1879-01-01                                 -2.22\n1880-01-01                                  0.89\n1881-01-01                                 -3.80\n1882-01-01                                  3.87\n1883-01-01                                 -0.23\n1884-01-01                                  1.44\n1885-01-01                                 -0.89\n1886-01-01                                 -1.12\n1887-01-01                                  0.45\n1888-01-01                                 -2.75\n1889-01-01                                 -0.01\n1890-01-01                                  1.78\n1891-01-01                                 -0.82\n1892-01-01                                 -2.02\n1893-01-01                                 -1.07\n1894-01-01                                  2.68\n1895-01-01                                 -3.97\n1896-01-01                                  1.12\n1897-01-01                                  1.09\n1898-01-01                                  1.02\n1899-01-01                                  0.03\n1900-01-01                                 -2.13\n1901-01-01                                 -0.33\n1902-01-01                                 -1.41\n1903-01-01                                  3.89\n1904-01-01                                  0.23\n1905-01-01                                  1.98\n1906-01-01                                  2.06\n1907-01-01                                  2.06\n1908-01-01                                  1.44\n1909-01-01                                  0.00\n1910-01-01                                  2.10\n1911-01-01                                  0.29\n1912-01-01                                  0.24\n1913-01-01                                  2.69\n1914-01-01                                  1.48\n1915-01-01                                 -0.20\n1916-01-01                                 -0.69\n1917-01-01                                 -3.80\n1918-01-01                                 -0.80\n1919-01-01                                 -0.80\n1920-01-01                                  3.18\n1921-01-01                                  1.63\n1922-01-01                                  1.85\n1923-01-01                                  1.73\n                                             ...\n\n[150 rows x 1 columns]"
           },
           {
            "@type": "ecoop_ext:Parameter",
            "ecoop_ext:parameter_name": "datarange",
            "ecoop_ext:parameter_value": null
           },
           {
            "@type": "ecoop_ext:Parameter",
            "ecoop_ext:parameter_name": "dateformat",
            "ecoop_ext:parameter_value": true
           },
           {
            "@type": "ecoop_ext:Parameter",
            "ecoop_ext:parameter_name": "dpi",
            "ecoop_ext:parameter_value": 300
           },
           {
            "@type": "ecoop_ext:Parameter",
            "ecoop_ext:parameter_name": "figsave",
            "ecoop_ext:parameter_value": "nao.png"
           },
           {
            "@type": "ecoop_ext:Parameter",
            "ecoop_ext:parameter_name": "figsize",
            "ecoop_ext:parameter_value": [
             10,
             8
            ]
           },
           {
            "@type": "ecoop_ext:Parameter",
            "ecoop_ext:parameter_name": "frac",
            "ecoop_ext:parameter_value": 0.16666666666666666
           },
           {
            "@type": "ecoop_ext:Parameter",
            "ecoop_ext:parameter_name": "freq",
            "ecoop_ext:parameter_value": null
           },
           {
            "@type": "ecoop_ext:Parameter",
            "ecoop_ext:parameter_name": "grid",
            "ecoop_ext:parameter_value": true
           },
           {
            "@type": "ecoop_ext:Parameter",
            "ecoop_ext:parameter_name": "it",
            "ecoop_ext:parameter_value": 6
           },
           {
            "@type": "ecoop_ext:Parameter",
            "ecoop_ext:parameter_name": "legend",
            "ecoop_ext:parameter_value": true
           },
           {
            "@type": "ecoop_ext:Parameter",
            "ecoop_ext:parameter_name": "min_periods",
            "ecoop_ext:parameter_value": null
           },
           {
            "@type": "ecoop_ext:Parameter",
            "ecoop_ext:parameter_name": "name",
            "ecoop_ext:parameter_value": "NAO_lowess"
           },
           {
            "@type": "ecoop_ext:Parameter",
            "ecoop_ext:parameter_name": "nb",
            "ecoop_ext:parameter_value": "y"
           },
           {
            "@type": "ecoop_ext:Parameter",
            "ecoop_ext:parameter_name": "output",
            "ecoop_ext:parameter_value": "test/Climate-forcing_pdf_Saturday_21_June_2014_06_51_55_PM"
           },
           {
            "@type": "ecoop_ext:Parameter",
            "ecoop_ext:parameter_name": "power",
            "ecoop_ext:parameter_value": 1
           },
           {
            "@type": "ecoop_ext:Parameter",
            "ecoop_ext:parameter_name": "scategory",
            "ecoop_ext:parameter_value": "lowess"
           },
           {
            "@type": "ecoop_ext:Parameter",
            "ecoop_ext:parameter_name": "smoother",
            "ecoop_ext:parameter_value": null
           },
           {
            "@type": "ecoop_ext:Parameter",
            "ecoop_ext:parameter_name": "std",
            "ecoop_ext:parameter_value": 0.1
           },
           {
            "@type": "ecoop_ext:Parameter",
            "ecoop_ext:parameter_name": "title",
            "ecoop_ext:parameter_value": ""
           },
           {
            "@type": "ecoop_ext:Parameter",
            "ecoop_ext:parameter_name": "width",
            "ecoop_ext:parameter_value": 1
           },
           {
            "@type": "ecoop_ext:Parameter",
            "ecoop_ext:parameter_name": "win_size",
            "ecoop_ext:parameter_value": 10
           },
           {
            "@type": "ecoop_ext:Parameter",
            "ecoop_ext:parameter_name": "win_type",
            "ecoop_ext:parameter_value": "boxcar"
           },
           {
            "@type": "ecoop_ext:Parameter",
            "ecoop_ext:parameter_name": "xlabel",
            "ecoop_ext:parameter_value": "Year"
           },
           {
            "@type": "ecoop_ext:Parameter",
            "ecoop_ext:parameter_name": "xmargin",
            "ecoop_ext:parameter_value": true
           },
           {
            "@type": "ecoop_ext:Parameter",
            "ecoop_ext:parameter_name": "xticks",
            "ecoop_ext:parameter_value": 10
           },
           {
            "@type": "ecoop_ext:Parameter",
            "ecoop_ext:parameter_name": "xticks_fontsize",
            "ecoop_ext:parameter_value": 10
           },
           {
            "@type": "ecoop_ext:Parameter",
            "ecoop_ext:parameter_name": "ylabel",
            "ecoop_ext:parameter_value": ""
           },
           {
            "@type": "ecoop_ext:Parameter",
            "ecoop_ext:parameter_name": "ymargin",
            "ecoop_ext:parameter_value": true
           }
          ]
         },
         "ecoop_ext:hasData": "ecoop_data['NAO']",
         "ecoop_ext:usedSoftware": [
          {
           "@id": "ex:ecoop_software"
          },
          {
           "@id": "ex:ipython_software"
          }
         ]
        }
       },
       "output_type": "display_data",
       "text": [
        "'cell-output metadata saved'"
       ]
      },
      {
       "output_type": "stream",
       "stream": "stdout",
       "text": [
        "Session output file 'subplots.html' already exists, will be overwritten.\n"
       ]
      },
      {
       "metadata": {},
       "output_type": "display_data",
       "png": "[encoded data removed]",
       "text": [
        "<matplotlib.figure.Figure at 0x529acd0>"
       ]
      }
     ],
     "prompt_number": 10
    },
    {
     "cell_type": "code",
     "collapsed": false,
     "input": [
      "#from bokeh import pyplot"
     ],
     "language": "python",
     "metadata": {},
     "outputs": [],
     "prompt_number": 11
    },
    {
     "cell_type": "code",
     "collapsed": false,
     "input": [
      "time.sleep(1)\n",
      "nb_name = 'ESR_Test_rdf.ipynb'\n",
      "util.save_notebook(ID, nb_name)\n",
      "time.sleep(1)\n",
      "\n",
      "!rm -rf splash_nao.ipynb\n",
      "\n",
      "nao_datafile = os.path.join(ID,'nao.csv')\n",
      "naodatalink = util.gistit(filename=nao_datafile, jist='/usr/local/bin/gist', type='text')\n",
      "nbviewerlink = util.gistit(filename=nb_name, jist='/usr/local/bin/gist', type='notebook')\n",
      "\n",
      "splash['NAO']['nbviewer'] = nbviewerlink\n",
      "splash['NAO']['repository'] = 'https://github.com/epifanio/ecoop'\n",
      "splash['NAO']['download'] = 'http://144.76.93.231/shared/%s' % ID\n",
      "\n",
      "f = open('splash_nao.ipynb', 'w')\n",
      "f.write(makeSplash(splash, 'NAO'))\n",
      "f.close()\n",
      "naosplashlink = util.gistit(filename='splash_nao.ipynb', jist='/usr/local/bin/gist', type='notebook')\n",
      "\n",
      "naofig = addFigure(img=os.path.join(ID,'nao.png'), name='North Atlantic Oscillation', metadata=naosplashlink)"
     ],
     "language": "python",
     "metadata": {},
     "outputs": [
      {
       "javascript": [
        "IPython.notebook.save_notebook()"
       ],
       "metadata": {},
       "output_type": "display_data",
       "text": [
        "<IPython.core.display.Javascript object>"
       ]
      },
      {
       "output_type": "stream",
       "stream": "stdout",
       "text": [
        "input file ESR_Test_rdf.ipynb not found\n"
       ]
      }
     ],
     "prompt_number": 12
    },
    {
     "cell_type": "code",
     "collapsed": false,
     "input": [
      "naosubsection = addSubSection(name='North Atlantic Oscillation Index', data=os.path.join(ID,'nao.txt'), fig=naofig)"
     ],
     "language": "python",
     "metadata": {},
     "outputs": [],
     "prompt_number": 13
    },
    {
     "cell_type": "heading",
     "level": 3,
     "metadata": {},
     "source": [
      "Sub Section 2"
     ]
    },
    {
     "cell_type": "code",
     "collapsed": false,
     "input": [
      "%%writefileref {ID}/amo.txt epinux\n",
      "Multidecadal patterns in sea surface temperature (SST) in the North Atlantic are represented by the Atlantic Multidecadal Oscillation (AMO) index. \n",
      "The AMO signal is based on spatial patterns in SST variability after removing the effects of anthropogenic forcing on temperature, \n",
      "revealing natural long term cycles in SST.\n",
      "The AMO is characterized by warm and cool phases [6] with periods of approximately 20-40 years. \n",
      "The AMO index is related to air temperatures and rainfall over North America and Europe and is associated \n",
      "with changes in the frequency of droughts in North America and the frequency of severe hurricane events. \n",
      "The AMO is thought to be related to the North Atlantic branch of the deep thermohaline circulation \n",
      "(for more see The Gulf Stream below) which is in turn directly related to dynamics of the Gulf Stream.\n",
      "The AMO index shows a relatively cool period starting in the early 1960s, extending through the mid 1990s. \n",
      "Since 1997, the AMO has been in a warm phase (Figure 2). \n",
      "If past patterns continue to hold, the warm phase will potentially continue for the next several decades."
     ],
     "language": "python",
     "metadata": {},
     "outputs": [
      {
       "output_type": "stream",
       "stream": "stdout",
       "text": [
        "Writing test/Climate-forcing_pdf_Saturday_21_June_2014_06_51_55_PM/amo.txt\n"
       ]
      },
      {
       "metadata": {
        "references": {
         "@id": "ex:epinux",
         "@type": "foaf:Person",
         "ecoop:address": "22 Millfield St Woods Hole MA US",
         "ecoop:isMemberOf": [
          {
           "@id": "ex:ecoop_group",
           "@type": "foaf:Group",
           "foaf:name": "ECOOP"
          },
          {
           "@id": "ex:TWC",
           "@type": "foaf:Organization",
           "ecoop:subOrganizationOf": {
            "@id": "ex:RPI",
            "@type": "foaf:Organization",
            "foaf:name": "Rensselaer Polytechnic Institute"
           },
           "foaf:name": "Tetherless World Constellation"
          }
         ],
         "foaf:familyName": "Di Stefano",
         "foaf:givenName": "Massimo",
         "foaf:homepage": {
          "@id": "http://tw.rpi.edu/web/person/MassimoDiStefano",
          "@type": "foaf:Document"
         },
         "foaf:mbox": {
          "@id": "mailto:distem@rpi.edu"
         },
         "foaf:phone": {
          "@id": "tel:+1.508.292.40780"
         }
        }
       },
       "output_type": "display_data",
       "text": [
        "u'added references for user epinux'"
       ]
      }
     ],
     "prompt_number": 14
    },
    {
     "cell_type": "code",
     "collapsed": false,
     "input": [
      "# AMO\n",
      "amodata = cfd.amo_get(save=ID, csvout=\"amo.csv\")\n",
      "cfp.plot_index(name='AMO_lowess', xticks=10, xticks_fontsize=10, \n",
      "               data=amodata, nb='y', scategory='lowess', frac=1./6, it=6, \n",
      "               output=ID, dateformat=True, figsave=\"amo.png\", prov=True)"
     ],
     "language": "python",
     "metadata": {},
     "outputs": [
      {
       "output_type": "stream",
       "stream": "stdout",
       "text": [
        "dataset used: http://www.cdc.noaa.gov/Correlation/amon.us.long.data\n",
        "data saved as test/Climate-forcing_pdf_Saturday_21_June_2014_06_51_55_PM/amo.csv \n",
        "graph saved in: test/Climate-forcing_pdf_Saturday_21_June_2014_06_51_55_PM/amo.png "
       ]
      },
      {
       "output_type": "stream",
       "stream": "stdout",
       "text": [
        "\n",
        "AMO_lowess smoothed data saved in : test/Climate-forcing_pdf_Saturday_21_June_2014_06_51_55_PM/AMO_lowess_lowess.csv \n"
       ]
      },
      {
       "metadata": {
        "amo_get": {
         "@id": "ex:NAO_figure",
         "@type": [
          "prov:Entity",
          "ecoop:Figure"
         ],
         "ecoop_ext:hasCode": {
          "@type": "ecoop_ext:Code",
          "ecoop_ext:hasFunction_src_code_link": "",
          "ecoop_ext:hasParameter": [
           {
            "@type": "ecoop_ext:Parameter",
            "ecoop_ext:parameter_name": "beta",
            "ecoop_ext:parameter_value": 0.1
           },
           {
            "@type": "ecoop_ext:Parameter",
            "ecoop_ext:parameter_name": "center",
            "ecoop_ext:parameter_value": false
           },
           {
            "@type": "ecoop_ext:Parameter",
            "ecoop_ext:parameter_name": "data",
            "ecoop_ext:parameter_value": "                 amo\nyear                \n1856-01-01  0.197000\n1857-01-01 -0.021750\n1858-01-01  0.005083\n1859-01-01  0.015917\n1860-01-01  0.082667\n1861-01-01  0.179667\n1862-01-01 -0.199917\n1863-01-01 -0.116667\n1864-01-01  0.060250\n1865-01-01  0.166333\n1866-01-01  0.201333\n1867-01-01  0.140083\n1868-01-01  0.152417\n1869-01-01  0.093583\n1870-01-01  0.016750\n1871-01-01  0.029500\n1872-01-01  0.092250\n1873-01-01  0.046750\n1874-01-01 -0.022000\n1875-01-01  0.034000\n1876-01-01 -0.023333\n1877-01-01  0.240167\n1878-01-01  0.451333\n1879-01-01  0.124083\n1880-01-01  0.061333\n1881-01-01  0.041167\n1882-01-01 -0.027250\n1883-01-01 -0.034000\n1884-01-01 -0.077333\n1885-01-01 -0.025917\n1886-01-01  0.121333\n1887-01-01  0.119500\n1888-01-01  0.193167\n1889-01-01  0.196167\n1890-01-01 -0.146167\n1891-01-01  0.032750\n1892-01-01 -0.093333\n1893-01-01 -0.007167\n1894-01-01 -0.245417\n1895-01-01 -0.096083\n1896-01-01  0.105000\n1897-01-01  0.108333\n1898-01-01  0.072667\n1899-01-01  0.126000\n1900-01-01  0.095917\n1901-01-01  0.087000\n1902-01-01 -0.102833\n1903-01-01 -0.193750\n1904-01-01 -0.348083\n1905-01-01 -0.203333\n1906-01-01 -0.073583\n1907-01-01 -0.227250\n1908-01-01 -0.130250\n1909-01-01 -0.137000\n1910-01-01 -0.247333\n1911-01-01 -0.213083\n1912-01-01 -0.227333\n1913-01-01 -0.386917\n1914-01-01 -0.289083\n1915-01-01  0.094750\n                 ...\n\n[159 rows x 1 columns]"
           },
           {
            "@type": "ecoop_ext:Parameter",
            "ecoop_ext:parameter_name": "datarange",
            "ecoop_ext:parameter_value": null
           },
           {
            "@type": "ecoop_ext:Parameter",
            "ecoop_ext:parameter_name": "dateformat",
            "ecoop_ext:parameter_value": true
           },
           {
            "@type": "ecoop_ext:Parameter",
            "ecoop_ext:parameter_name": "dpi",
            "ecoop_ext:parameter_value": 300
           },
           {
            "@type": "ecoop_ext:Parameter",
            "ecoop_ext:parameter_name": "figsave",
            "ecoop_ext:parameter_value": "amo.png"
           },
           {
            "@type": "ecoop_ext:Parameter",
            "ecoop_ext:parameter_name": "figsize",
            "ecoop_ext:parameter_value": [
             10,
             8
            ]
           },
           {
            "@type": "ecoop_ext:Parameter",
            "ecoop_ext:parameter_name": "frac",
            "ecoop_ext:parameter_value": 0.16666666666666666
           },
           {
            "@type": "ecoop_ext:Parameter",
            "ecoop_ext:parameter_name": "freq",
            "ecoop_ext:parameter_value": null
           },
           {
            "@type": "ecoop_ext:Parameter",
            "ecoop_ext:parameter_name": "grid",
            "ecoop_ext:parameter_value": true
           },
           {
            "@type": "ecoop_ext:Parameter",
            "ecoop_ext:parameter_name": "it",
            "ecoop_ext:parameter_value": 6
           },
           {
            "@type": "ecoop_ext:Parameter",
            "ecoop_ext:parameter_name": "legend",
            "ecoop_ext:parameter_value": true
           },
           {
            "@type": "ecoop_ext:Parameter",
            "ecoop_ext:parameter_name": "min_periods",
            "ecoop_ext:parameter_value": null
           },
           {
            "@type": "ecoop_ext:Parameter",
            "ecoop_ext:parameter_name": "name",
            "ecoop_ext:parameter_value": "AMO_lowess"
           },
           {
            "@type": "ecoop_ext:Parameter",
            "ecoop_ext:parameter_name": "nb",
            "ecoop_ext:parameter_value": "y"
           },
           {
            "@type": "ecoop_ext:Parameter",
            "ecoop_ext:parameter_name": "output",
            "ecoop_ext:parameter_value": "test/Climate-forcing_pdf_Saturday_21_June_2014_06_51_55_PM"
           },
           {
            "@type": "ecoop_ext:Parameter",
            "ecoop_ext:parameter_name": "power",
            "ecoop_ext:parameter_value": 1
           },
           {
            "@type": "ecoop_ext:Parameter",
            "ecoop_ext:parameter_name": "scategory",
            "ecoop_ext:parameter_value": "lowess"
           },
           {
            "@type": "ecoop_ext:Parameter",
            "ecoop_ext:parameter_name": "smoother",
            "ecoop_ext:parameter_value": null
           },
           {
            "@type": "ecoop_ext:Parameter",
            "ecoop_ext:parameter_name": "std",
            "ecoop_ext:parameter_value": 0.1
           },
           {
            "@type": "ecoop_ext:Parameter",
            "ecoop_ext:parameter_name": "title",
            "ecoop_ext:parameter_value": ""
           },
           {
            "@type": "ecoop_ext:Parameter",
            "ecoop_ext:parameter_name": "width",
            "ecoop_ext:parameter_value": 1
           },
           {
            "@type": "ecoop_ext:Parameter",
            "ecoop_ext:parameter_name": "win_size",
            "ecoop_ext:parameter_value": 10
           },
           {
            "@type": "ecoop_ext:Parameter",
            "ecoop_ext:parameter_name": "win_type",
            "ecoop_ext:parameter_value": "boxcar"
           },
           {
            "@type": "ecoop_ext:Parameter",
            "ecoop_ext:parameter_name": "xlabel",
            "ecoop_ext:parameter_value": "Year"
           },
           {
            "@type": "ecoop_ext:Parameter",
            "ecoop_ext:parameter_name": "xmargin",
            "ecoop_ext:parameter_value": true
           },
           {
            "@type": "ecoop_ext:Parameter",
            "ecoop_ext:parameter_name": "xticks",
            "ecoop_ext:parameter_value": 10
           },
           {
            "@type": "ecoop_ext:Parameter",
            "ecoop_ext:parameter_name": "xticks_fontsize",
            "ecoop_ext:parameter_value": 10
           },
           {
            "@type": "ecoop_ext:Parameter",
            "ecoop_ext:parameter_name": "ylabel",
            "ecoop_ext:parameter_value": ""
           },
           {
            "@type": "ecoop_ext:Parameter",
            "ecoop_ext:parameter_name": "ymargin",
            "ecoop_ext:parameter_value": true
           }
          ]
         },
         "ecoop_ext:hasData": "ecoop_data['NAO']",
         "ecoop_ext:usedSoftware": [
          {
           "@id": "ex:ecoop_software"
          },
          {
           "@id": "ex:ipython_software"
          }
         ]
        }
       },
       "output_type": "display_data",
       "text": [
        "'cell-output metadata saved'"
       ]
      },
      {
       "output_type": "stream",
       "stream": "stdout",
       "text": [
        "Session output file 'subplots.html' already exists, will be overwritten.\n"
       ]
      },
      {
       "metadata": {},
       "output_type": "display_data",
       "png": "[encoded data removed]",
       "text": [
        "<matplotlib.figure.Figure at 0x548d690>"
       ]
      }
     ],
     "prompt_number": 15
    },
    {
     "cell_type": "code",
     "collapsed": false,
     "input": [
      "time.sleep(1)\n",
      "nb_name = 'ESR_Test_rdf.ipynb'\n",
      "util.save_notebook(ID, nb_name)\n",
      "time.sleep(1)\n",
      "\n",
      "amo_datafile = os.path.join(ID,'amo.csv')\n",
      "amodatalink = util.gistit(filename=amo_datafile, jist='/usr/local/bin/gist', type='text')\n",
      "nbviewerlink2 = util.gistit(filename=nb_name, jist='/usr/local/bin/gist', type='notebook')\n",
      "\n",
      "splash['AMO']['nbviewer'] = nbviewerlink\n",
      "splash['AMO']['repository'] = 'https://github.com/epifanio/ecoop'\n",
      "splash['AMO']['download'] = 'http://144.76.93.231/shared/%s' % ID\n",
      "\n",
      "f = open('splash_amo.ipynb', 'w')\n",
      "f.write(makeSplash(splash, 'AMO'))\n",
      "f.close()\n",
      "amosplashlink = util.gistit(filename='splash_amo.ipynb', jist='/usr/local/bin/gist', type='notebook')\n",
      "\n",
      "amofig = addFigure(img=os.path.join(ID,'amo.png'), name='Atlantic Multidecadal Oscillation', metadata=amosplashlink)"
     ],
     "language": "python",
     "metadata": {},
     "outputs": [
      {
       "javascript": [
        "IPython.notebook.save_notebook()"
       ],
       "metadata": {},
       "output_type": "display_data",
       "text": [
        "<IPython.core.display.Javascript object>"
       ]
      },
      {
       "output_type": "stream",
       "stream": "stdout",
       "text": [
        "input file ESR_Test_rdf.ipynb not found\n"
       ]
      }
     ],
     "prompt_number": 16
    },
    {
     "cell_type": "code",
     "collapsed": false,
     "input": [
      "amosubsection = addSubSection(name='Atlantic Multidecadal Oscillation', data=os.path.join(ID,'amo.txt'), fig=amofig)"
     ],
     "language": "python",
     "metadata": {},
     "outputs": [],
     "prompt_number": 17
    },
    {
     "cell_type": "heading",
     "level": 1,
     "metadata": {},
     "source": [
      "Write Document"
     ]
    },
    {
     "cell_type": "code",
     "collapsed": false,
     "input": [
      "closedDocument = closeDocument()"
     ],
     "language": "python",
     "metadata": {},
     "outputs": [],
     "prompt_number": 18
    },
    {
     "cell_type": "code",
     "collapsed": false,
     "input": [
      "texfile=''\n",
      "texfile += document\n",
      "texfile += section\n",
      "texfile += naosubsection\n",
      "texfile += amosubsection\n",
      "texfile += closedDocument"
     ],
     "language": "python",
     "metadata": {},
     "outputs": [],
     "prompt_number": 19
    },
    {
     "cell_type": "code",
     "collapsed": false,
     "input": [
      "#print texfile"
     ],
     "language": "python",
     "metadata": {},
     "outputs": [],
     "prompt_number": 20
    },
    {
     "cell_type": "code",
     "collapsed": false,
     "input": [
      "pdf = os.path.join(ID,'test.tex')\n",
      "f = open(pdf,'w')\n",
      "f.write(texfile)\n",
      "f.close()"
     ],
     "language": "python",
     "metadata": {},
     "outputs": [],
     "prompt_number": 21
    },
    {
     "cell_type": "code",
     "collapsed": false,
     "input": [
      "!pdflatex -output-directory={ID} {pdf}"
     ],
     "language": "python",
     "metadata": {},
     "outputs": [
      {
       "output_type": "stream",
       "stream": "stdout",
       "text": [
        "This is pdfTeX, Version 3.14159265-2.6-1.40.15 (TeX Live 2014/Debian) (preloaded format=pdflatex)\r\n",
        " restricted \\write18 enabled.\r\n",
        "entering extended mode\r\n",
        "(./test/Climate-forcing_pdf_Saturday_21_June_2014_06_51_55_PM/test.tex\r\n",
        "LaTeX2e <2014/05/01>\r\n",
        "Babel <3.9k> and hyphenation patterns for 78 languages loaded.\r\n",
        "(/usr/share/texlive/texmf-dist/tex/latex/base/article.cls\r\n",
        "Document Class: article 2007/10/19 v1.4h Standard LaTeX document class\r\n",
        "(/usr/share/texlive/texmf-dist/tex/latex/base/size10.clo))\r\n",
        "(/usr/share/texlive/texmf-dist/tex/latex/tools/multicol.sty)\r\n",
        "(/usr/share/texlive/texmf-dist/tex/generic/babel/babel.sty\r\n",
        "(/usr/share/texlive/texmf-dist/tex/generic/babel-english/english.ldf\r\n",
        "(/usr/share/texlive/texmf-dist/tex/generic/babel/babel.def)))\r\n",
        "(/usr/share/texlive/texmf-dist/tex/latex/blindtext/blindtext.sty\r\n",
        "(/usr/share/texlive/texmf-dist/tex/latex/tools/xspace.sty)"
       ]
      },
      {
       "output_type": "stream",
       "stream": "stdout",
       "text": [
        ")\r\n",
        "(/usr/share/texlive/texmf-dist/tex/latex/graphics/graphicx.sty\r\n",
        "(/usr/share/texlive/texmf-dist/tex/latex/graphics/keyval.sty)\r\n",
        "(/usr/share/texlive/texmf-dist/tex/latex/graphics/graphics.sty\r\n",
        "(/usr/share/texlive/texmf-dist/tex/latex/graphics/trig.sty)\r\n",
        "(/usr/share/texlive/texmf-dist/tex/latex/latexconfig/graphics.cfg)\r\n",
        "(/usr/share/texlive/texmf-dist/tex/latex/pdftex-def/pdftex.def\r\n",
        "(/usr/share/texlive/texmf-dist/tex/generic/oberdiek/infwarerr.sty)\r\n",
        "(/usr/share/texlive/texmf-dist/tex/generic/oberdiek/ltxcmds.sty))))\r\n",
        "(/usr/share/texlive/texmf-dist/tex/latex/wrapfig/wrapfig.sty)\r\n",
        "(/usr/share/texlive/texmf-dist/tex/latex/hyperref/hyperref.sty\r\n",
        "(/usr/share/texlive/texmf-dist/tex/generic/oberdiek/hobsub-hyperref.sty\r\n",
        "(/usr/share/texlive/texmf-dist/tex/generic/oberdiek/hobsub-generic.sty))\r\n",
        "(/usr/share/texlive/texmf-dist/tex/generic/ifxetex/ifxetex.sty)\r\n",
        "(/usr/share/texlive/texmf-dist/tex/latex/oberdiek/auxhook.sty)\r\n",
        "(/usr/share/texlive/texmf-dist/tex/latex/oberdiek/kvoptions.sty)\r\n",
        "(/usr/share/texlive/texmf-dist/tex/latex/hyperref/pd1enc.def)\r\n",
        "(/usr/share/texlive/texmf-dist/tex/latex/latexconfig/hyperref.cfg)\r\n",
        "(/usr/share/texlive/texmf-dist/tex/latex/url/url.sty))\r\n",
        "\r\n",
        "Package hyperref Message: Driver (autodetected): hpdftex.\r\n",
        "\r\n",
        "(/usr/share/texlive/texmf-dist/tex/latex/hyperref/hpdftex.def\r\n",
        "(/usr/share/texlive/texmf-dist/tex/latex/oberdiek/rerunfilecheck.sty))\r\n",
        "(/usr/share/texlive/texmf-dist/tex/latex/fancyvrb/fancyvrb.sty\r\n",
        "Style option: `fancyvrb' v2.7a, with DG/SPQR fixes, and firstline=lastline fix \r\n",
        "<2008/02/07> (tvz)) (/usr/share/texlive/texmf-dist/tex/latex/base/inputenc.sty\r\n",
        "(/usr/share/texlive/texmf-dist/tex/latex/base/utf8.def\r\n",
        "(/usr/share/texlive/texmf-dist/tex/latex/base/t1enc.dfu)\r\n",
        "(/usr/share/texlive/texmf-dist/tex/latex/base/ot1enc.dfu)\r\n",
        "(/usr/share/texlive/texmf-dist/tex/latex/base/omsenc.dfu)))\r\n",
        "No file test.aux.\r\n",
        "(/usr/share/texlive/texmf-dist/tex/context/base/supp-pdf.mkii\r\n",
        "[Loading MPS to PDF converter (version 2006.09.02).]\r\n",
        ") (/usr/share/texlive/texmf-dist/tex/latex/oberdiek/epstopdf-base.sty\r\n",
        "(/usr/share/texlive/texmf-dist/tex/latex/oberdiek/grfext.sty)\r\n",
        "(/usr/share/texlive/texmf-dist/tex/latex/latexconfig/epstopdf-sys.cfg))\r\n",
        "(/usr/share/texlive/texmf-dist/tex/latex/hyperref/nameref.sty\r\n",
        "(/usr/share/texlive/texmf-dist/tex/generic/oberdiek/gettitlestring.sty))\r\n",
        "(./test/Climate-forcing_pdf_Saturday_21_June_2014_06_51_55_PM/climate_forcing.t\r\n",
        "xt)\r\n",
        "Overfull \\hbox (5.86142pt too wide) in paragraph at lines 1--15\r\n",
        "\\OT1/cmr/m/n/10 graphic con-di-tions and ecosys-tem states.\r\n",
        "\r\n",
        "Overfull \\hbox (0.47256pt too wide) in paragraph at lines 1--15\r\n",
        "\\OT1/cmr/m/n/10 Steadily in-creas-ing at-mo-spheric car-bon\r\n",
        "\r\n",
        "Overfull \\hbox (2.1947pt too wide) in paragraph at lines 1--15\r\n",
        "\\OT1/cmr/m/n/10 al-ter crit-i-cal as-pects of ocean chem-istry.\r\n",
        "\r\n",
        "Overfull \\hbox (0.16687pt too wide) in paragraph at lines 1--15\r\n",
        "\\OT1/cmr/m/n/10 Here, we de-scribe the at-mo-spheric forc-\r\n",
        "\r\n",
        "Overfull \\hbox (0.9447pt too wide) in paragraph at lines 1--15\r\n",
        "\\OT1/cmr/m/n/10 spheric pres-sure sys-tems, nat-u-ral ocean\r\n",
        "(./test/Climate-forcing_pdf_Saturday_21_June_2014_06_51_55_PM/nao.txt)\r\n",
        "<test/Climate-forcing_pdf_Saturday_21_June_2014_06_51_55_PM/nao.png, id=4, 722.\r\n",
        "7pt x 578.16pt>\r\n",
        "<use test/Climate-forcing_pdf_Saturday_21_June_2014_06_51_55_PM/nao.png>\r\n",
        "Overfull \\hbox (3.21652pt too wide) in paragraph at lines 19--20\r\n",
        "[][] \r\n",
        "\r\n",
        "Overfull \\hbox (4.58365pt too wide) in paragraph at lines 1--22\r\n",
        "\\OT1/cmr/m/n/10 dipole pat-tern has been de-vel-oped based\r\n",
        "\r\n",
        "Overfull \\hbox (5.44257pt too wide) in paragraph at lines 1--22\r\n",
        "\\OT1/cmr/m/n/10 NAO in-dex is high (pos-i-tive NAO state),\r\n",
        "\r\n",
        "Overfull \\hbox (3.93552pt too wide) in paragraph at lines 1--22\r\n",
        "\\OT1/cmr/m/n/10 in-crease in strength. Ad-di-tion-ally, there\r\n",
        "\r\n",
        "Overfull \\hbox (6.91693pt too wide) in paragraph at lines 1--22\r\n",
        "\\OT1/cmr/m/n/10 is an in-crease in pre-cip-i-ta-tion over south-\r\n",
        "\r\n",
        "Overfull \\hbox (7.66698pt too wide) in paragraph at lines 1--22\r\n",
        "\\OT1/cmr/m/n/10 south-east-ern Canada, the east-ern United\r\n",
        "\r\n",
        "Overfull \\hbox (10.41696pt too wide) in paragraph at lines 1--22\r\n",
        "\\OT1/cmr/m/n/10 ter tem-per-a-tures are warmer off Labrador\r\n",
        "\r\n",
        "Overfull \\hbox (4.97258pt too wide) in paragraph at lines 1--22\r\n",
        "\\OT1/cmr/m/n/10 state (Fig-ure 1), al-though no-table short-\r\n",
        "\r\n",
        "Overfull \\hbox (15.43553pt too wide) in paragraph at lines 1--22\r\n",
        "\\OT1/cmr/m/n/10 been ob-served dur-ing this pe-riod. Changes\r\n",
        "\r\n",
        "Overfull \\hbox (1.4436pt too wide) in paragraph at lines 1--22\r\n",
        "\\OT1/cmr/m/n/10 in the NAO have been linked to changes\r\n",
        "\r\n",
        "Overfull \\hbox (13.81111pt too wide) in paragraph at lines 23--23\r\n",
        "[]\\OT1/cmr/bx/n/12 Atlantic Mul-ti-decadal Os-\r\n",
        "(./test/Climate-forcing_pdf_Saturday_21_June_2014_06_51_55_PM/amo.txt)\r\n",
        "<test/Climate-forcing_pdf_Saturday_21_June_2014_06_51_55_PM/amo.png, id=8, 722.\r\n",
        "7pt x 578.16pt>\r\n",
        "<use test/Climate-forcing_pdf_Saturday_21_June_2014_06_51_55_PM/amo.png>\r\n",
        "Overfull \\hbox (3.21652pt too wide) in paragraph at lines 26--27\r\n",
        "[][] \r\n",
        "\r\n",
        "Overfull \\hbox (8.83362pt too wide) in paragraph at lines 1--29\r\n",
        "\\OT1/cmr/m/n/10 Multidecadal pat-terns in sea sur-face tem-\r\n",
        "[1{/var/lib/texmf/fonts/map/pdftex/updmap/pdftex.map"
       ]
      },
      {
       "output_type": "stream",
       "stream": "stdout",
       "text": [
        "} <./test/Climate-forcing_p\r\n",
        "df_Saturday_21_June_2014_06_51_55_PM/nao.png"
       ]
      },
      {
       "output_type": "stream",
       "stream": "stdout",
       "text": [
        ">] [2 <./test/Climate-forcing_pdf_S\r\n",
        "aturday_21_June_2014_06_51_55_PM/amo.png"
       ]
      },
      {
       "output_type": "stream",
       "stream": "stdout",
       "text": [
        ">]\r\n",
        "(test/Climate-forcing_pdf_Saturday_21_June_2014_06_51_55_PM/test.aux) )\r\n",
        "(see the transcript file for additional information)</usr/share/texlive/texmf-d\r\n",
        "ist/fonts/type1/public/amsfonts/cm/cmbx12.pfb></usr/share/texlive/texmf-dist/fo\r\n",
        "nts/type1/public/amsfonts/cm/cmr10.pfb>\r\n",
        "Output written on test/Climate-forcing_pdf_Saturday_21_June_2014_06_51_55_PM/te\r\n"
       ]
      },
      {
       "output_type": "stream",
       "stream": "stdout",
       "text": [
        "st.pdf (2 pages, 515694 bytes).\r\n",
        "Transcript written on test/Climate-forcing_pdf_Saturday_21_June_2014_06_51_55_P\r\n",
        "M/test.log.\r\n"
       ]
      }
     ],
     "prompt_number": 22
    },
    {
     "cell_type": "code",
     "collapsed": false,
     "input": [
      "!rm -rf /var/www/shared/test.pdf"
     ],
     "language": "python",
     "metadata": {},
     "outputs": [],
     "prompt_number": 23
    },
    {
     "cell_type": "code",
     "collapsed": false,
     "input": [
      "!cp {ID}/test.pdf /var/www/shared/test.pdf"
     ],
     "language": "python",
     "metadata": {},
     "outputs": [
      {
       "output_type": "stream",
       "stream": "stdout",
       "text": [
        "cp: cannot create regular file \u2018/var/www/shared/test.pdf\u2019: No such file or directory\r\n"
       ]
      }
     ],
     "prompt_number": 24
    },
    {
     "cell_type": "markdown",
     "metadata": {},
     "source": [
      "PDF available at http://www.epinux.com/shared/test.pdf"
     ]
    },
    {
     "cell_type": "markdown",
     "metadata": {},
     "source": [
      "or via QR code :"
     ]
    },
    {
     "cell_type": "code",
     "collapsed": false,
     "input": [
      "from IPython.core.display import Image\n",
      "!rm -rf pdf.png\n",
      "import qrcode\n",
      "img = qrcode.make(\"http://144.76.93.231/shared/test.pdf\")\n",
      "img.save(\"pdf.png\")\n",
      "Image('pdf.png')"
     ],
     "language": "python",
     "metadata": {},
     "outputs": [
      {
       "metadata": {},
       "output_type": "pyout",
       "png": "[encoded data removed]",
       "prompt_number": 25,
       "text": [
        "<IPython.core.display.Image object>"
       ]
      }
     ],
     "prompt_number": 25
    },
    {
     "cell_type": "markdown",
     "metadata": {},
     "source": [
      "Upload to SFTP :\n",
      "\n",
      "```\n",
      "from secret import username, password, hostname, port\n",
      "inputfile = ID\n",
      "outputfile = '/var/www/shared/%s.zip' % ID\n",
      "util.uploadfile(username=username, \n",
      "                password=password, \n",
      "                hostname=hostname, \n",
      "                port=port, \n",
      "                inputfile=inputfile,\n",
      "                outputfile=outputfile, \n",
      "                zip=True, link=True, qr=True, apacheroot='/var/www/')\n",
      "```"
     ]
    },
    {
     "cell_type": "markdown",
     "metadata": {},
     "source": [
      "* User and Version Info"
     ]
    },
    {
     "cell_type": "code",
     "collapsed": false,
     "input": [
      "import getpass\n",
      "user = getpass.getuser()\n",
      "from ecoop import version\n",
      "from ecoop.userdict import ecoopuser"
     ],
     "language": "python",
     "metadata": {},
     "outputs": [],
     "prompt_number": 26
    },
    {
     "cell_type": "code",
     "collapsed": false,
     "input": [
      "git_revision = version.git_revision\n",
      "short_version= version.short_version\n",
      "author = ecoopuser[user]"
     ],
     "language": "python",
     "metadata": {},
     "outputs": [],
     "prompt_number": 27
    },
    {
     "cell_type": "code",
     "collapsed": false,
     "input": [
      "git_revision, short_version"
     ],
     "language": "python",
     "metadata": {},
     "outputs": [
      {
       "metadata": {},
       "output_type": "pyout",
       "prompt_number": 28,
       "text": [
        "('aa4c80500378d784e5a37e1015bcc5ec76c5018e', '0.1.0')"
       ]
      }
     ],
     "prompt_number": 28
    },
    {
     "cell_type": "code",
     "collapsed": false,
     "input": [
      "author.keys()"
     ],
     "language": "python",
     "metadata": {},
     "outputs": [
      {
       "metadata": {},
       "output_type": "pyout",
       "prompt_number": 29,
       "text": [
        "['foaf:phone',\n",
        " 'foaf:homepage',\n",
        " 'foaf:familyName',\n",
        " 'ecoop:address',\n",
        " 'foaf:givenName',\n",
        " 'foaf:mbox',\n",
        " '@id',\n",
        " '@type',\n",
        " 'ecoop:isMemberOf']"
       ]
      }
     ],
     "prompt_number": 29
    },
    {
     "cell_type": "code",
     "collapsed": false,
     "input": [
      "author"
     ],
     "language": "python",
     "metadata": {},
     "outputs": [
      {
       "metadata": {},
       "output_type": "pyout",
       "prompt_number": 30,
       "text": [
        "{'@id': 'ex:epinux',\n",
        " '@type': 'foaf:Person',\n",
        " 'ecoop:address': '22 Millfield St Woods Hole MA US',\n",
        " 'ecoop:isMemberOf': [{'@id': 'ex:ecoop_group',\n",
        "   '@type': 'foaf:Group',\n",
        "   'foaf:name': 'ECOOP'},\n",
        "  {'@id': 'ex:TWC',\n",
        "   '@type': 'foaf:Organization',\n",
        "   'ecoop:subOrganizationOf': {'@id': 'ex:RPI',\n",
        "    '@type': 'foaf:Organization',\n",
        "    'foaf:name': 'Rensselaer Polytechnic Institute'},\n",
        "   'foaf:name': 'Tetherless World Constellation'}],\n",
        " 'foaf:familyName': 'Di Stefano',\n",
        " 'foaf:givenName': 'Massimo',\n",
        " 'foaf:homepage': {'@id': 'http://tw.rpi.edu/web/person/MassimoDiStefano',\n",
        "  '@type': 'foaf:Document'},\n",
        " 'foaf:mbox': {'@id': 'mailto:distem@rpi.edu'},\n",
        " 'foaf:phone': {'@id': 'tel:+1.508.292.40780'}}"
       ]
      }
     ],
     "prompt_number": 30
    },
    {
     "cell_type": "markdown",
     "metadata": {},
     "source": [
      "INSTALLATION:\n",
      "\n",
      "* Download and install the ecoop code and its dependencies\n",
      "    \n",
      "    ```\n",
      "    git clone https://github.com/epifanio/ecoop-1\n",
      "    cd ecoop-1/pyecoop\n",
      "    pip install -r requirement.txt\n",
      "    python setup.py install\n",
      "    ```\n",
      "\n",
      "*  pdflatex<br>\n",
      "\n",
      "    ```\n",
      "    apt-get install texlive texlive-latex-extra      \n",
      "    ```\n",
      "      \n",
      "* gist utility:\n",
      "\n",
      "    ```\n",
      "    apt-get install rubygems\n",
      "    gem install gist\n",
      "    ```"
     ]
    },
    {
     "cell_type": "markdown",
     "metadata": {},
     "source": []
    },
    {
     "cell_type": "markdown",
     "metadata": {},
     "source": []
    }
   ],
   "metadata": {}
  }
 ]
}